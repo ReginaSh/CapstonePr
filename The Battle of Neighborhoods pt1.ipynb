{
    "cells": [
        {
            "metadata": {
                "collapsed": true
            },
            "cell_type": "markdown",
            "source": "# The Battle of Neighborhoods (week 1)"
        },
        {
            "metadata": {},
            "cell_type": "markdown",
            "source": "For this week, you will required to submit the following:\n    <li>A description of the problem and a discussion of the background. (15 marks)</li>\n    <li>A description of the data and how it will be used to solve the problem. (15 marks)</li>"
        },
        {
            "metadata": {},
            "cell_type": "markdown",
            "source": "# Introduction"
        },
        {
            "metadata": {},
            "cell_type": "markdown",
            "source": "## 1. Background "
        },
        {
            "metadata": {},
            "cell_type": "markdown",
            "source": "Toronto is the capital of Ontario and the biggest city in Canada. With its population of 2,731,571 in 2016 it is the most populous in Canada and fourth populous in North America. The deserve population of Toronto makes it the most importatnt destination for immigrants in Canada. While majotiry of poeple speak English, 160 other langagues are spoken there.( this information can be found [here](https://en.wikipedia.org/wiki/Toronto))\nSuch a big geographical area, vast population and large number of ethnicities creates a very challenging environment for restaurant businesses. Location is one of key things for the prosperity of the business, therefore it is imortant to choose area, in which cafe and restaurants are the most popular venues and the lowest competition. "
        },
        {
            "metadata": {},
            "cell_type": "markdown",
            "source": "## 2. Problem"
        },
        {
            "metadata": {},
            "cell_type": "markdown",
            "source": "Suggest the Traget Audience neighborhoods that are best in terms of location and popularity among people to gain the maxium profit in Toronto, by examining data on most popular venues.\n"
        },
        {
            "metadata": {},
            "cell_type": "code",
            "source": "",
            "execution_count": null,
            "outputs": []
        }
    ],
    "metadata": {
        "kernelspec": {
            "name": "python3",
            "display_name": "Python 3.6",
            "language": "python"
        },
        "language_info": {
            "name": "python",
            "version": "3.6.9",
            "mimetype": "text/x-python",
            "codemirror_mode": {
                "name": "ipython",
                "version": 3
            },
            "pygments_lexer": "ipython3",
            "nbconvert_exporter": "python",
            "file_extension": ".py"
        }
    },
    "nbformat": 4,
    "nbformat_minor": 1
}